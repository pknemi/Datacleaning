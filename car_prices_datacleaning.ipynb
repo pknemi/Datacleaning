{
  "nbformat": 4,
  "nbformat_minor": 0,
  "metadata": {
    "colab": {
      "provenance": [],
      "authorship_tag": "ABX9TyNPToaEyklbDNnMM273rGiv",
      "include_colab_link": true
    },
    "kernelspec": {
      "name": "python3",
      "display_name": "Python 3"
    },
    "language_info": {
      "name": "python"
    }
  },
  "cells": [
    {
      "cell_type": "markdown",
      "metadata": {
        "id": "view-in-github",
        "colab_type": "text"
      },
      "source": [
        "<a href=\"https://colab.research.google.com/github/pknemi/Datacleaning/blob/main/car_prices_datacleaning.ipynb\" target=\"_parent\"><img src=\"https://colab.research.google.com/assets/colab-badge.svg\" alt=\"Open In Colab\"/></a>"
      ]
    },
    {
      "cell_type": "markdown",
      "source": [
        "# **Data cleaning,outlier detection and visualization of the dataset carprices.**\n",
        "\n",
        "In this task, we'll perform data cleaning, outlier detection, and visualization on a car prices dataset using pandas. The dataset includes columns such as Selling Price, Market Price, Model, Odometer, Condition, and other attributes related to various car brands. The goal is to ensure data quality by identifying and handling missing values, detecting outliers in key numerical fields like price and odometer readings, and visualizing patterns and distributions to gain insights into the factors affecting car prices."
      ],
      "metadata": {
        "id": "SZxkH5brd4dI"
      }
    },
    {
      "cell_type": "code",
      "execution_count": 1,
      "metadata": {
        "id": "Zk-3YnbEbbrv"
      },
      "outputs": [],
      "source": [
        "import pandas as pd\n",
        "import matplotlib.pyplot as plt\n",
        "import seaborn as sns\n",
        "import numpy as np\n",
        "import plotly.express as px\n",
        "import warnings\n"
      ]
    },
    {
      "cell_type": "code",
      "source": [
        "data=pd.read_csv('car_prices.csv')\n",
        "data"
      ],
      "metadata": {
        "colab": {
          "base_uri": "https://localhost:8080/",
          "height": 1000
        },
        "id": "vc0vpU-ic8-6",
        "outputId": "44b25602-4833-4b62-b26f-135c368bcc52"
      },
      "execution_count": 2,
      "outputs": [
        {
          "output_type": "execute_result",
          "data": {
            "text/plain": [
              "       year      make                model         trim       body  \\\n",
              "0      2015       Kia              Sorento           LX        SUV   \n",
              "1      2015       Kia              Sorento           LX        SUV   \n",
              "2      2014       BMW             3 Series   328i SULEV      Sedan   \n",
              "3      2015     Volvo                  S60           T5      Sedan   \n",
              "4      2014       BMW  6 Series Gran Coupe         650i      Sedan   \n",
              "...     ...       ...                  ...          ...        ...   \n",
              "79947  2012   Hyundai             Veloster         Base  Hatchback   \n",
              "79948  2012  Infiniti              G Sedan          G25    G Sedan   \n",
              "79949  2012  Infiniti                    M          M37      Sedan   \n",
              "79950  2012  Infiniti              G Sedan  G37 Journey    G Sedan   \n",
              "79951  2012  Infiniti              G Sedan  G37 Journey    G Sedan   \n",
              "\n",
              "      transmission                vin state  condition  odometer  color  \\\n",
              "0        automatic  5xyktca69fg566472    ca        5.0   16639.0  white   \n",
              "1        automatic  5xyktca69fg561319    ca        5.0    9393.0  white   \n",
              "2        automatic  wba3c1c51ek116351    ca       45.0    1331.0   gray   \n",
              "3        automatic  yv1612tb4f1310987    ca       41.0   14282.0  white   \n",
              "4        automatic  wba6b2c57ed129731    ca       43.0    2641.0   gray   \n",
              "...            ...                ...   ...        ...       ...    ...   \n",
              "79947    automatic  kmhtc6ad2cu037410    fl       43.0   33267.0   blue   \n",
              "79948    automatic  jn1dv6ap5cm810600    fl       41.0   37855.0  white   \n",
              "79949    automatic  jn1by1ap7cm331807    fl       48.0   45475.0  black   \n",
              "79950    automatic  jn1cv6ap1cm936352    tx       37.0   29499.0   gray   \n",
              "79951    automatic  jn1cv6ap8cm933545    fl       47.0   37018.0   blue   \n",
              "\n",
              "      interior                                  seller    mmr  sellingprice  \\\n",
              "0        black                 kia motors america  inc  20500         21500   \n",
              "1        beige                 kia motors america  inc  20800         21500   \n",
              "2        black  financial services remarketing (lease)  31900         30000   \n",
              "3        black                 volvo na rep/world omni  27500         27750   \n",
              "4        black  financial services remarketing (lease)  66000         67000   \n",
              "...        ...                                     ...    ...           ...   \n",
              "79947     gray                   hyundai motor finance  11850         12100   \n",
              "79948    black                      nissan infiniti lt  17000         18400   \n",
              "79949    black                      nissan infiniti lt  24300         25000   \n",
              "79950    black                      nissan infiniti lt  21400         22400   \n",
              "79951     gray                      nissan infiniti lt  19650         19400   \n",
              "\n",
              "                                      saledate  \n",
              "0      Tue Dec 16 2014 12:30:00 GMT-0800 (PST)  \n",
              "1      Tue Dec 16 2014 12:30:00 GMT-0800 (PST)  \n",
              "2      Thu Jan 15 2015 04:30:00 GMT-0800 (PST)  \n",
              "3      Thu Jan 29 2015 04:30:00 GMT-0800 (PST)  \n",
              "4      Thu Dec 18 2014 12:30:00 GMT-0800 (PST)  \n",
              "...                                        ...  \n",
              "79947  Tue Jan 06 2015 01:30:00 GMT-0800 (PST)  \n",
              "79948  Tue Feb 10 2015 01:30:00 GMT-0800 (PST)  \n",
              "79949  Tue Jan 06 2015 13:00:00 GMT-0800 (PST)  \n",
              "79950  Wed Jan 07 2015 10:30:00 GMT-0800 (PST)  \n",
              "79951                           Tue Feb 10 201  \n",
              "\n",
              "[79952 rows x 16 columns]"
            ],
            "text/html": [
              "\n",
              "  <div id=\"df-e2c538a2-8727-43d2-922e-f1ada7eb37d3\" class=\"colab-df-container\">\n",
              "    <div>\n",
              "<style scoped>\n",
              "    .dataframe tbody tr th:only-of-type {\n",
              "        vertical-align: middle;\n",
              "    }\n",
              "\n",
              "    .dataframe tbody tr th {\n",
              "        vertical-align: top;\n",
              "    }\n",
              "\n",
              "    .dataframe thead th {\n",
              "        text-align: right;\n",
              "    }\n",
              "</style>\n",
              "<table border=\"1\" class=\"dataframe\">\n",
              "  <thead>\n",
              "    <tr style=\"text-align: right;\">\n",
              "      <th></th>\n",
              "      <th>year</th>\n",
              "      <th>make</th>\n",
              "      <th>model</th>\n",
              "      <th>trim</th>\n",
              "      <th>body</th>\n",
              "      <th>transmission</th>\n",
              "      <th>vin</th>\n",
              "      <th>state</th>\n",
              "      <th>condition</th>\n",
              "      <th>odometer</th>\n",
              "      <th>color</th>\n",
              "      <th>interior</th>\n",
              "      <th>seller</th>\n",
              "      <th>mmr</th>\n",
              "      <th>sellingprice</th>\n",
              "      <th>saledate</th>\n",
              "    </tr>\n",
              "  </thead>\n",
              "  <tbody>\n",
              "    <tr>\n",
              "      <th>0</th>\n",
              "      <td>2015</td>\n",
              "      <td>Kia</td>\n",
              "      <td>Sorento</td>\n",
              "      <td>LX</td>\n",
              "      <td>SUV</td>\n",
              "      <td>automatic</td>\n",
              "      <td>5xyktca69fg566472</td>\n",
              "      <td>ca</td>\n",
              "      <td>5.0</td>\n",
              "      <td>16639.0</td>\n",
              "      <td>white</td>\n",
              "      <td>black</td>\n",
              "      <td>kia motors america  inc</td>\n",
              "      <td>20500</td>\n",
              "      <td>21500</td>\n",
              "      <td>Tue Dec 16 2014 12:30:00 GMT-0800 (PST)</td>\n",
              "    </tr>\n",
              "    <tr>\n",
              "      <th>1</th>\n",
              "      <td>2015</td>\n",
              "      <td>Kia</td>\n",
              "      <td>Sorento</td>\n",
              "      <td>LX</td>\n",
              "      <td>SUV</td>\n",
              "      <td>automatic</td>\n",
              "      <td>5xyktca69fg561319</td>\n",
              "      <td>ca</td>\n",
              "      <td>5.0</td>\n",
              "      <td>9393.0</td>\n",
              "      <td>white</td>\n",
              "      <td>beige</td>\n",
              "      <td>kia motors america  inc</td>\n",
              "      <td>20800</td>\n",
              "      <td>21500</td>\n",
              "      <td>Tue Dec 16 2014 12:30:00 GMT-0800 (PST)</td>\n",
              "    </tr>\n",
              "    <tr>\n",
              "      <th>2</th>\n",
              "      <td>2014</td>\n",
              "      <td>BMW</td>\n",
              "      <td>3 Series</td>\n",
              "      <td>328i SULEV</td>\n",
              "      <td>Sedan</td>\n",
              "      <td>automatic</td>\n",
              "      <td>wba3c1c51ek116351</td>\n",
              "      <td>ca</td>\n",
              "      <td>45.0</td>\n",
              "      <td>1331.0</td>\n",
              "      <td>gray</td>\n",
              "      <td>black</td>\n",
              "      <td>financial services remarketing (lease)</td>\n",
              "      <td>31900</td>\n",
              "      <td>30000</td>\n",
              "      <td>Thu Jan 15 2015 04:30:00 GMT-0800 (PST)</td>\n",
              "    </tr>\n",
              "    <tr>\n",
              "      <th>3</th>\n",
              "      <td>2015</td>\n",
              "      <td>Volvo</td>\n",
              "      <td>S60</td>\n",
              "      <td>T5</td>\n",
              "      <td>Sedan</td>\n",
              "      <td>automatic</td>\n",
              "      <td>yv1612tb4f1310987</td>\n",
              "      <td>ca</td>\n",
              "      <td>41.0</td>\n",
              "      <td>14282.0</td>\n",
              "      <td>white</td>\n",
              "      <td>black</td>\n",
              "      <td>volvo na rep/world omni</td>\n",
              "      <td>27500</td>\n",
              "      <td>27750</td>\n",
              "      <td>Thu Jan 29 2015 04:30:00 GMT-0800 (PST)</td>\n",
              "    </tr>\n",
              "    <tr>\n",
              "      <th>4</th>\n",
              "      <td>2014</td>\n",
              "      <td>BMW</td>\n",
              "      <td>6 Series Gran Coupe</td>\n",
              "      <td>650i</td>\n",
              "      <td>Sedan</td>\n",
              "      <td>automatic</td>\n",
              "      <td>wba6b2c57ed129731</td>\n",
              "      <td>ca</td>\n",
              "      <td>43.0</td>\n",
              "      <td>2641.0</td>\n",
              "      <td>gray</td>\n",
              "      <td>black</td>\n",
              "      <td>financial services remarketing (lease)</td>\n",
              "      <td>66000</td>\n",
              "      <td>67000</td>\n",
              "      <td>Thu Dec 18 2014 12:30:00 GMT-0800 (PST)</td>\n",
              "    </tr>\n",
              "    <tr>\n",
              "      <th>...</th>\n",
              "      <td>...</td>\n",
              "      <td>...</td>\n",
              "      <td>...</td>\n",
              "      <td>...</td>\n",
              "      <td>...</td>\n",
              "      <td>...</td>\n",
              "      <td>...</td>\n",
              "      <td>...</td>\n",
              "      <td>...</td>\n",
              "      <td>...</td>\n",
              "      <td>...</td>\n",
              "      <td>...</td>\n",
              "      <td>...</td>\n",
              "      <td>...</td>\n",
              "      <td>...</td>\n",
              "      <td>...</td>\n",
              "    </tr>\n",
              "    <tr>\n",
              "      <th>79947</th>\n",
              "      <td>2012</td>\n",
              "      <td>Hyundai</td>\n",
              "      <td>Veloster</td>\n",
              "      <td>Base</td>\n",
              "      <td>Hatchback</td>\n",
              "      <td>automatic</td>\n",
              "      <td>kmhtc6ad2cu037410</td>\n",
              "      <td>fl</td>\n",
              "      <td>43.0</td>\n",
              "      <td>33267.0</td>\n",
              "      <td>blue</td>\n",
              "      <td>gray</td>\n",
              "      <td>hyundai motor finance</td>\n",
              "      <td>11850</td>\n",
              "      <td>12100</td>\n",
              "      <td>Tue Jan 06 2015 01:30:00 GMT-0800 (PST)</td>\n",
              "    </tr>\n",
              "    <tr>\n",
              "      <th>79948</th>\n",
              "      <td>2012</td>\n",
              "      <td>Infiniti</td>\n",
              "      <td>G Sedan</td>\n",
              "      <td>G25</td>\n",
              "      <td>G Sedan</td>\n",
              "      <td>automatic</td>\n",
              "      <td>jn1dv6ap5cm810600</td>\n",
              "      <td>fl</td>\n",
              "      <td>41.0</td>\n",
              "      <td>37855.0</td>\n",
              "      <td>white</td>\n",
              "      <td>black</td>\n",
              "      <td>nissan infiniti lt</td>\n",
              "      <td>17000</td>\n",
              "      <td>18400</td>\n",
              "      <td>Tue Feb 10 2015 01:30:00 GMT-0800 (PST)</td>\n",
              "    </tr>\n",
              "    <tr>\n",
              "      <th>79949</th>\n",
              "      <td>2012</td>\n",
              "      <td>Infiniti</td>\n",
              "      <td>M</td>\n",
              "      <td>M37</td>\n",
              "      <td>Sedan</td>\n",
              "      <td>automatic</td>\n",
              "      <td>jn1by1ap7cm331807</td>\n",
              "      <td>fl</td>\n",
              "      <td>48.0</td>\n",
              "      <td>45475.0</td>\n",
              "      <td>black</td>\n",
              "      <td>black</td>\n",
              "      <td>nissan infiniti lt</td>\n",
              "      <td>24300</td>\n",
              "      <td>25000</td>\n",
              "      <td>Tue Jan 06 2015 13:00:00 GMT-0800 (PST)</td>\n",
              "    </tr>\n",
              "    <tr>\n",
              "      <th>79950</th>\n",
              "      <td>2012</td>\n",
              "      <td>Infiniti</td>\n",
              "      <td>G Sedan</td>\n",
              "      <td>G37 Journey</td>\n",
              "      <td>G Sedan</td>\n",
              "      <td>automatic</td>\n",
              "      <td>jn1cv6ap1cm936352</td>\n",
              "      <td>tx</td>\n",
              "      <td>37.0</td>\n",
              "      <td>29499.0</td>\n",
              "      <td>gray</td>\n",
              "      <td>black</td>\n",
              "      <td>nissan infiniti lt</td>\n",
              "      <td>21400</td>\n",
              "      <td>22400</td>\n",
              "      <td>Wed Jan 07 2015 10:30:00 GMT-0800 (PST)</td>\n",
              "    </tr>\n",
              "    <tr>\n",
              "      <th>79951</th>\n",
              "      <td>2012</td>\n",
              "      <td>Infiniti</td>\n",
              "      <td>G Sedan</td>\n",
              "      <td>G37 Journey</td>\n",
              "      <td>G Sedan</td>\n",
              "      <td>automatic</td>\n",
              "      <td>jn1cv6ap8cm933545</td>\n",
              "      <td>fl</td>\n",
              "      <td>47.0</td>\n",
              "      <td>37018.0</td>\n",
              "      <td>blue</td>\n",
              "      <td>gray</td>\n",
              "      <td>nissan infiniti lt</td>\n",
              "      <td>19650</td>\n",
              "      <td>19400</td>\n",
              "      <td>Tue Feb 10 201</td>\n",
              "    </tr>\n",
              "  </tbody>\n",
              "</table>\n",
              "<p>79952 rows × 16 columns</p>\n",
              "</div>\n",
              "    <div class=\"colab-df-buttons\">\n",
              "\n",
              "  <div class=\"colab-df-container\">\n",
              "    <button class=\"colab-df-convert\" onclick=\"convertToInteractive('df-e2c538a2-8727-43d2-922e-f1ada7eb37d3')\"\n",
              "            title=\"Convert this dataframe to an interactive table.\"\n",
              "            style=\"display:none;\">\n",
              "\n",
              "  <svg xmlns=\"http://www.w3.org/2000/svg\" height=\"24px\" viewBox=\"0 -960 960 960\">\n",
              "    <path d=\"M120-120v-720h720v720H120Zm60-500h600v-160H180v160Zm220 220h160v-160H400v160Zm0 220h160v-160H400v160ZM180-400h160v-160H180v160Zm440 0h160v-160H620v160ZM180-180h160v-160H180v160Zm440 0h160v-160H620v160Z\"/>\n",
              "  </svg>\n",
              "    </button>\n",
              "\n",
              "  <style>\n",
              "    .colab-df-container {\n",
              "      display:flex;\n",
              "      gap: 12px;\n",
              "    }\n",
              "\n",
              "    .colab-df-convert {\n",
              "      background-color: #E8F0FE;\n",
              "      border: none;\n",
              "      border-radius: 50%;\n",
              "      cursor: pointer;\n",
              "      display: none;\n",
              "      fill: #1967D2;\n",
              "      height: 32px;\n",
              "      padding: 0 0 0 0;\n",
              "      width: 32px;\n",
              "    }\n",
              "\n",
              "    .colab-df-convert:hover {\n",
              "      background-color: #E2EBFA;\n",
              "      box-shadow: 0px 1px 2px rgba(60, 64, 67, 0.3), 0px 1px 3px 1px rgba(60, 64, 67, 0.15);\n",
              "      fill: #174EA6;\n",
              "    }\n",
              "\n",
              "    .colab-df-buttons div {\n",
              "      margin-bottom: 4px;\n",
              "    }\n",
              "\n",
              "    [theme=dark] .colab-df-convert {\n",
              "      background-color: #3B4455;\n",
              "      fill: #D2E3FC;\n",
              "    }\n",
              "\n",
              "    [theme=dark] .colab-df-convert:hover {\n",
              "      background-color: #434B5C;\n",
              "      box-shadow: 0px 1px 3px 1px rgba(0, 0, 0, 0.15);\n",
              "      filter: drop-shadow(0px 1px 2px rgba(0, 0, 0, 0.3));\n",
              "      fill: #FFFFFF;\n",
              "    }\n",
              "  </style>\n",
              "\n",
              "    <script>\n",
              "      const buttonEl =\n",
              "        document.querySelector('#df-e2c538a2-8727-43d2-922e-f1ada7eb37d3 button.colab-df-convert');\n",
              "      buttonEl.style.display =\n",
              "        google.colab.kernel.accessAllowed ? 'block' : 'none';\n",
              "\n",
              "      async function convertToInteractive(key) {\n",
              "        const element = document.querySelector('#df-e2c538a2-8727-43d2-922e-f1ada7eb37d3');\n",
              "        const dataTable =\n",
              "          await google.colab.kernel.invokeFunction('convertToInteractive',\n",
              "                                                    [key], {});\n",
              "        if (!dataTable) return;\n",
              "\n",
              "        const docLinkHtml = 'Like what you see? Visit the ' +\n",
              "          '<a target=\"_blank\" href=https://colab.research.google.com/notebooks/data_table.ipynb>data table notebook</a>'\n",
              "          + ' to learn more about interactive tables.';\n",
              "        element.innerHTML = '';\n",
              "        dataTable['output_type'] = 'display_data';\n",
              "        await google.colab.output.renderOutput(dataTable, element);\n",
              "        const docLink = document.createElement('div');\n",
              "        docLink.innerHTML = docLinkHtml;\n",
              "        element.appendChild(docLink);\n",
              "      }\n",
              "    </script>\n",
              "  </div>\n",
              "\n",
              "\n",
              "<div id=\"df-7ec8ab50-260d-4086-8ff0-5684b9f40d57\">\n",
              "  <button class=\"colab-df-quickchart\" onclick=\"quickchart('df-7ec8ab50-260d-4086-8ff0-5684b9f40d57')\"\n",
              "            title=\"Suggest charts\"\n",
              "            style=\"display:none;\">\n",
              "\n",
              "<svg xmlns=\"http://www.w3.org/2000/svg\" height=\"24px\"viewBox=\"0 0 24 24\"\n",
              "     width=\"24px\">\n",
              "    <g>\n",
              "        <path d=\"M19 3H5c-1.1 0-2 .9-2 2v14c0 1.1.9 2 2 2h14c1.1 0 2-.9 2-2V5c0-1.1-.9-2-2-2zM9 17H7v-7h2v7zm4 0h-2V7h2v10zm4 0h-2v-4h2v4z\"/>\n",
              "    </g>\n",
              "</svg>\n",
              "  </button>\n",
              "\n",
              "<style>\n",
              "  .colab-df-quickchart {\n",
              "      --bg-color: #E8F0FE;\n",
              "      --fill-color: #1967D2;\n",
              "      --hover-bg-color: #E2EBFA;\n",
              "      --hover-fill-color: #174EA6;\n",
              "      --disabled-fill-color: #AAA;\n",
              "      --disabled-bg-color: #DDD;\n",
              "  }\n",
              "\n",
              "  [theme=dark] .colab-df-quickchart {\n",
              "      --bg-color: #3B4455;\n",
              "      --fill-color: #D2E3FC;\n",
              "      --hover-bg-color: #434B5C;\n",
              "      --hover-fill-color: #FFFFFF;\n",
              "      --disabled-bg-color: #3B4455;\n",
              "      --disabled-fill-color: #666;\n",
              "  }\n",
              "\n",
              "  .colab-df-quickchart {\n",
              "    background-color: var(--bg-color);\n",
              "    border: none;\n",
              "    border-radius: 50%;\n",
              "    cursor: pointer;\n",
              "    display: none;\n",
              "    fill: var(--fill-color);\n",
              "    height: 32px;\n",
              "    padding: 0;\n",
              "    width: 32px;\n",
              "  }\n",
              "\n",
              "  .colab-df-quickchart:hover {\n",
              "    background-color: var(--hover-bg-color);\n",
              "    box-shadow: 0 1px 2px rgba(60, 64, 67, 0.3), 0 1px 3px 1px rgba(60, 64, 67, 0.15);\n",
              "    fill: var(--button-hover-fill-color);\n",
              "  }\n",
              "\n",
              "  .colab-df-quickchart-complete:disabled,\n",
              "  .colab-df-quickchart-complete:disabled:hover {\n",
              "    background-color: var(--disabled-bg-color);\n",
              "    fill: var(--disabled-fill-color);\n",
              "    box-shadow: none;\n",
              "  }\n",
              "\n",
              "  .colab-df-spinner {\n",
              "    border: 2px solid var(--fill-color);\n",
              "    border-color: transparent;\n",
              "    border-bottom-color: var(--fill-color);\n",
              "    animation:\n",
              "      spin 1s steps(1) infinite;\n",
              "  }\n",
              "\n",
              "  @keyframes spin {\n",
              "    0% {\n",
              "      border-color: transparent;\n",
              "      border-bottom-color: var(--fill-color);\n",
              "      border-left-color: var(--fill-color);\n",
              "    }\n",
              "    20% {\n",
              "      border-color: transparent;\n",
              "      border-left-color: var(--fill-color);\n",
              "      border-top-color: var(--fill-color);\n",
              "    }\n",
              "    30% {\n",
              "      border-color: transparent;\n",
              "      border-left-color: var(--fill-color);\n",
              "      border-top-color: var(--fill-color);\n",
              "      border-right-color: var(--fill-color);\n",
              "    }\n",
              "    40% {\n",
              "      border-color: transparent;\n",
              "      border-right-color: var(--fill-color);\n",
              "      border-top-color: var(--fill-color);\n",
              "    }\n",
              "    60% {\n",
              "      border-color: transparent;\n",
              "      border-right-color: var(--fill-color);\n",
              "    }\n",
              "    80% {\n",
              "      border-color: transparent;\n",
              "      border-right-color: var(--fill-color);\n",
              "      border-bottom-color: var(--fill-color);\n",
              "    }\n",
              "    90% {\n",
              "      border-color: transparent;\n",
              "      border-bottom-color: var(--fill-color);\n",
              "    }\n",
              "  }\n",
              "</style>\n",
              "\n",
              "  <script>\n",
              "    async function quickchart(key) {\n",
              "      const quickchartButtonEl =\n",
              "        document.querySelector('#' + key + ' button');\n",
              "      quickchartButtonEl.disabled = true;  // To prevent multiple clicks.\n",
              "      quickchartButtonEl.classList.add('colab-df-spinner');\n",
              "      try {\n",
              "        const charts = await google.colab.kernel.invokeFunction(\n",
              "            'suggestCharts', [key], {});\n",
              "      } catch (error) {\n",
              "        console.error('Error during call to suggestCharts:', error);\n",
              "      }\n",
              "      quickchartButtonEl.classList.remove('colab-df-spinner');\n",
              "      quickchartButtonEl.classList.add('colab-df-quickchart-complete');\n",
              "    }\n",
              "    (() => {\n",
              "      let quickchartButtonEl =\n",
              "        document.querySelector('#df-7ec8ab50-260d-4086-8ff0-5684b9f40d57 button');\n",
              "      quickchartButtonEl.style.display =\n",
              "        google.colab.kernel.accessAllowed ? 'block' : 'none';\n",
              "    })();\n",
              "  </script>\n",
              "</div>\n",
              "\n",
              "  <div id=\"id_34955bbd-fe38-41a0-a4f8-55acd06e59d2\">\n",
              "    <style>\n",
              "      .colab-df-generate {\n",
              "        background-color: #E8F0FE;\n",
              "        border: none;\n",
              "        border-radius: 50%;\n",
              "        cursor: pointer;\n",
              "        display: none;\n",
              "        fill: #1967D2;\n",
              "        height: 32px;\n",
              "        padding: 0 0 0 0;\n",
              "        width: 32px;\n",
              "      }\n",
              "\n",
              "      .colab-df-generate:hover {\n",
              "        background-color: #E2EBFA;\n",
              "        box-shadow: 0px 1px 2px rgba(60, 64, 67, 0.3), 0px 1px 3px 1px rgba(60, 64, 67, 0.15);\n",
              "        fill: #174EA6;\n",
              "      }\n",
              "\n",
              "      [theme=dark] .colab-df-generate {\n",
              "        background-color: #3B4455;\n",
              "        fill: #D2E3FC;\n",
              "      }\n",
              "\n",
              "      [theme=dark] .colab-df-generate:hover {\n",
              "        background-color: #434B5C;\n",
              "        box-shadow: 0px 1px 3px 1px rgba(0, 0, 0, 0.15);\n",
              "        filter: drop-shadow(0px 1px 2px rgba(0, 0, 0, 0.3));\n",
              "        fill: #FFFFFF;\n",
              "      }\n",
              "    </style>\n",
              "    <button class=\"colab-df-generate\" onclick=\"generateWithVariable('data')\"\n",
              "            title=\"Generate code using this dataframe.\"\n",
              "            style=\"display:none;\">\n",
              "\n",
              "  <svg xmlns=\"http://www.w3.org/2000/svg\" height=\"24px\"viewBox=\"0 0 24 24\"\n",
              "       width=\"24px\">\n",
              "    <path d=\"M7,19H8.4L18.45,9,17,7.55,7,17.6ZM5,21V16.75L18.45,3.32a2,2,0,0,1,2.83,0l1.4,1.43a1.91,1.91,0,0,1,.58,1.4,1.91,1.91,0,0,1-.58,1.4L9.25,21ZM18.45,9,17,7.55Zm-12,3A5.31,5.31,0,0,0,4.9,8.1,5.31,5.31,0,0,0,1,6.5,5.31,5.31,0,0,0,4.9,4.9,5.31,5.31,0,0,0,6.5,1,5.31,5.31,0,0,0,8.1,4.9,5.31,5.31,0,0,0,12,6.5,5.46,5.46,0,0,0,6.5,12Z\"/>\n",
              "  </svg>\n",
              "    </button>\n",
              "    <script>\n",
              "      (() => {\n",
              "      const buttonEl =\n",
              "        document.querySelector('#id_34955bbd-fe38-41a0-a4f8-55acd06e59d2 button.colab-df-generate');\n",
              "      buttonEl.style.display =\n",
              "        google.colab.kernel.accessAllowed ? 'block' : 'none';\n",
              "\n",
              "      buttonEl.onclick = () => {\n",
              "        google.colab.notebook.generateWithVariable('data');\n",
              "      }\n",
              "      })();\n",
              "    </script>\n",
              "  </div>\n",
              "\n",
              "    </div>\n",
              "  </div>\n"
            ],
            "application/vnd.google.colaboratory.intrinsic+json": {
              "type": "dataframe",
              "variable_name": "data",
              "summary": "{\n  \"name\": \"data\",\n  \"rows\": 79952,\n  \"fields\": [\n    {\n      \"column\": \"year\",\n      \"properties\": {\n        \"dtype\": \"number\",\n        \"std\": 4,\n        \"min\": 1984,\n        \"max\": 2015,\n        \"num_unique_values\": 32,\n        \"samples\": [\n          1985,\n          2000,\n          1992\n        ],\n        \"semantic_type\": \"\",\n        \"description\": \"\"\n      }\n    },\n    {\n      \"column\": \"make\",\n      \"properties\": {\n        \"dtype\": \"category\",\n        \"num_unique_values\": 93,\n        \"samples\": [\n          \"chrysler\",\n          \"Volkswagen\",\n          \"honda\"\n        ],\n        \"semantic_type\": \"\",\n        \"description\": \"\"\n      }\n    },\n    {\n      \"column\": \"model\",\n      \"properties\": {\n        \"dtype\": \"category\",\n        \"num_unique_values\": 862,\n        \"samples\": [\n          \"320i\",\n          \"rio\",\n          \"Xterra\"\n        ],\n        \"semantic_type\": \"\",\n        \"description\": \"\"\n      }\n    },\n    {\n      \"column\": \"trim\",\n      \"properties\": {\n        \"dtype\": \"category\",\n        \"num_unique_values\": 1592,\n        \"samples\": [\n          \"ZX4 ST\",\n          \"cargo v8 recreation\",\n          \"srw 4x4 ex xl\"\n        ],\n        \"semantic_type\": \"\",\n        \"description\": \"\"\n      }\n    },\n    {\n      \"column\": \"body\",\n      \"properties\": {\n        \"dtype\": \"category\",\n        \"num_unique_values\": 42,\n        \"samples\": [\n          \"Quad Cab\",\n          \"Double Cab\",\n          \"G Sedan\"\n        ],\n        \"semantic_type\": \"\",\n        \"description\": \"\"\n      }\n    },\n    {\n      \"column\": \"transmission\",\n      \"properties\": {\n        \"dtype\": \"category\",\n        \"num_unique_values\": 2,\n        \"samples\": [\n          \"manual\",\n          \"automatic\"\n        ],\n        \"semantic_type\": \"\",\n        \"description\": \"\"\n      }\n    },\n    {\n      \"column\": \"vin\",\n      \"properties\": {\n        \"dtype\": \"string\",\n        \"num_unique_values\": 79768,\n        \"samples\": [\n          \"1gcec14wxxz179302\",\n          \"1fmfu17568la60862\"\n        ],\n        \"semantic_type\": \"\",\n        \"description\": \"\"\n      }\n    },\n    {\n      \"column\": \"state\",\n      \"properties\": {\n        \"dtype\": \"category\",\n        \"num_unique_values\": 36,\n        \"samples\": [\n          \"nm\",\n          \"mi\"\n        ],\n        \"semantic_type\": \"\",\n        \"description\": \"\"\n      }\n    },\n    {\n      \"column\": \"condition\",\n      \"properties\": {\n        \"dtype\": \"number\",\n        \"std\": 13.897806002507297,\n        \"min\": 1.0,\n        \"max\": 49.0,\n        \"num_unique_values\": 41,\n        \"samples\": [\n          46.0,\n          29.0\n        ],\n        \"semantic_type\": \"\",\n        \"description\": \"\"\n      }\n    },\n    {\n      \"column\": \"odometer\",\n      \"properties\": {\n        \"dtype\": \"number\",\n        \"std\": 58487.0539961776,\n        \"min\": 1.0,\n        \"max\": 999999.0,\n        \"num_unique_values\": 62802,\n        \"samples\": [\n          96231.0,\n          66370.0\n        ],\n        \"semantic_type\": \"\",\n        \"description\": \"\"\n      }\n    },\n    {\n      \"column\": \"color\",\n      \"properties\": {\n        \"dtype\": \"category\",\n        \"num_unique_values\": 20,\n        \"samples\": [\n          \"white\",\n          \"turquoise\"\n        ],\n        \"semantic_type\": \"\",\n        \"description\": \"\"\n      }\n    },\n    {\n      \"column\": \"interior\",\n      \"properties\": {\n        \"dtype\": \"category\",\n        \"num_unique_values\": 17,\n        \"samples\": [\n          \"black\",\n          \"beige\"\n        ],\n        \"semantic_type\": \"\",\n        \"description\": \"\"\n      }\n    },\n    {\n      \"column\": \"seller\",\n      \"properties\": {\n        \"dtype\": \"category\",\n        \"num_unique_values\": 6634,\n        \"samples\": [\n          \"carbucks of georgia inc\",\n          \"toyota motor sales/lexus\"\n        ],\n        \"semantic_type\": \"\",\n        \"description\": \"\"\n      }\n    },\n    {\n      \"column\": \"mmr\",\n      \"properties\": {\n        \"dtype\": \"number\",\n        \"std\": 9437,\n        \"min\": 25,\n        \"max\": 157000,\n        \"num_unique_values\": 1036,\n        \"samples\": [\n          3700,\n          22300\n        ],\n        \"semantic_type\": \"\",\n        \"description\": \"\"\n      }\n    },\n    {\n      \"column\": \"sellingprice\",\n      \"properties\": {\n        \"dtype\": \"number\",\n        \"std\": 9443,\n        \"min\": 1,\n        \"max\": 156000,\n        \"num_unique_values\": 1075,\n        \"samples\": [\n          1800,\n          48500\n        ],\n        \"semantic_type\": \"\",\n        \"description\": \"\"\n      }\n    },\n    {\n      \"column\": \"saledate\",\n      \"properties\": {\n        \"dtype\": \"category\",\n        \"num_unique_values\": 1434,\n        \"samples\": [\n          \"Tue Dec 30 2014 09:00:00 GMT-0800 (PST)\",\n          \"Thu Jan 29 2015 01:45:00 GMT-0800 (PST)\"\n        ],\n        \"semantic_type\": \"\",\n        \"description\": \"\"\n      }\n    }\n  ]\n}"
            }
          },
          "metadata": {},
          "execution_count": 2
        }
      ]
    },
    {
      "cell_type": "markdown",
      "source": [
        "**Displaying the basic information of the dataset**\n"
      ],
      "metadata": {
        "id": "yB_cfV5lp-hK"
      }
    },
    {
      "cell_type": "code",
      "source": [
        "data.info()"
      ],
      "metadata": {
        "colab": {
          "base_uri": "https://localhost:8080/"
        },
        "id": "fx2_5-oQdLFv",
        "outputId": "229355cf-6090-486f-cef6-7d30d75e588f"
      },
      "execution_count": 3,
      "outputs": [
        {
          "output_type": "stream",
          "name": "stdout",
          "text": [
            "<class 'pandas.core.frame.DataFrame'>\n",
            "RangeIndex: 79952 entries, 0 to 79951\n",
            "Data columns (total 16 columns):\n",
            " #   Column        Non-Null Count  Dtype  \n",
            "---  ------        --------------  -----  \n",
            " 0   year          79952 non-null  int64  \n",
            " 1   make          79623 non-null  object \n",
            " 2   model         79605 non-null  object \n",
            " 3   trim          79391 non-null  object \n",
            " 4   body          77634 non-null  object \n",
            " 5   transmission  70156 non-null  object \n",
            " 6   vin           79952 non-null  object \n",
            " 7   state         79952 non-null  object \n",
            " 8   condition     68160 non-null  float64\n",
            " 9   odometer      79877 non-null  float64\n",
            " 10  color         79784 non-null  object \n",
            " 11  interior      79784 non-null  object \n",
            " 12  seller        79952 non-null  object \n",
            " 13  mmr           79952 non-null  int64  \n",
            " 14  sellingprice  79952 non-null  int64  \n",
            " 15  saledate      79952 non-null  object \n",
            "dtypes: float64(2), int64(3), object(11)\n",
            "memory usage: 9.8+ MB\n"
          ]
        }
      ]
    },
    {
      "cell_type": "code",
      "source": [
        "data.columns"
      ],
      "metadata": {
        "colab": {
          "base_uri": "https://localhost:8080/"
        },
        "id": "HeAhxq-WepJA",
        "outputId": "73a68a9e-753b-42b0-f0fc-e30814aec3c7"
      },
      "execution_count": null,
      "outputs": [
        {
          "output_type": "execute_result",
          "data": {
            "text/plain": [
              "Index(['year', 'make', 'model', 'trim', 'body', 'transmission', 'vin', 'state',\n",
              "       'condition', 'odometer', 'color', 'interior', 'seller', 'mmr',\n",
              "       'sellingprice', 'saledate'],\n",
              "      dtype='object')"
            ]
          },
          "metadata": {},
          "execution_count": 33
        }
      ]
    },
    {
      "cell_type": "markdown",
      "source": [
        "**Display the count of missing values in each column**"
      ],
      "metadata": {
        "id": "FlfHQuRqLXSt"
      }
    },
    {
      "cell_type": "code",
      "source": [
        "# Display the count of missing values in each column\n",
        "data.isnull().sum()"
      ],
      "metadata": {
        "colab": {
          "base_uri": "https://localhost:8080/",
          "height": 585
        },
        "id": "tKCehpbvdhEl",
        "outputId": "99abdd2a-1521-42fc-8c6b-6c6e7df3c5e4"
      },
      "execution_count": null,
      "outputs": [
        {
          "output_type": "execute_result",
          "data": {
            "text/plain": [
              "year                0\n",
              "make            10301\n",
              "model           10399\n",
              "trim            10651\n",
              "body            13195\n",
              "transmission    65352\n",
              "vin                 4\n",
              "state               0\n",
              "condition       11820\n",
              "odometer           94\n",
              "color             749\n",
              "interior          749\n",
              "seller              0\n",
              "mmr                38\n",
              "sellingprice       12\n",
              "saledate           12\n",
              "dtype: int64"
            ],
            "text/html": [
              "<div>\n",
              "<style scoped>\n",
              "    .dataframe tbody tr th:only-of-type {\n",
              "        vertical-align: middle;\n",
              "    }\n",
              "\n",
              "    .dataframe tbody tr th {\n",
              "        vertical-align: top;\n",
              "    }\n",
              "\n",
              "    .dataframe thead th {\n",
              "        text-align: right;\n",
              "    }\n",
              "</style>\n",
              "<table border=\"1\" class=\"dataframe\">\n",
              "  <thead>\n",
              "    <tr style=\"text-align: right;\">\n",
              "      <th></th>\n",
              "      <th>0</th>\n",
              "    </tr>\n",
              "  </thead>\n",
              "  <tbody>\n",
              "    <tr>\n",
              "      <th>year</th>\n",
              "      <td>0</td>\n",
              "    </tr>\n",
              "    <tr>\n",
              "      <th>make</th>\n",
              "      <td>10301</td>\n",
              "    </tr>\n",
              "    <tr>\n",
              "      <th>model</th>\n",
              "      <td>10399</td>\n",
              "    </tr>\n",
              "    <tr>\n",
              "      <th>trim</th>\n",
              "      <td>10651</td>\n",
              "    </tr>\n",
              "    <tr>\n",
              "      <th>body</th>\n",
              "      <td>13195</td>\n",
              "    </tr>\n",
              "    <tr>\n",
              "      <th>transmission</th>\n",
              "      <td>65352</td>\n",
              "    </tr>\n",
              "    <tr>\n",
              "      <th>vin</th>\n",
              "      <td>4</td>\n",
              "    </tr>\n",
              "    <tr>\n",
              "      <th>state</th>\n",
              "      <td>0</td>\n",
              "    </tr>\n",
              "    <tr>\n",
              "      <th>condition</th>\n",
              "      <td>11820</td>\n",
              "    </tr>\n",
              "    <tr>\n",
              "      <th>odometer</th>\n",
              "      <td>94</td>\n",
              "    </tr>\n",
              "    <tr>\n",
              "      <th>color</th>\n",
              "      <td>749</td>\n",
              "    </tr>\n",
              "    <tr>\n",
              "      <th>interior</th>\n",
              "      <td>749</td>\n",
              "    </tr>\n",
              "    <tr>\n",
              "      <th>seller</th>\n",
              "      <td>0</td>\n",
              "    </tr>\n",
              "    <tr>\n",
              "      <th>mmr</th>\n",
              "      <td>38</td>\n",
              "    </tr>\n",
              "    <tr>\n",
              "      <th>sellingprice</th>\n",
              "      <td>12</td>\n",
              "    </tr>\n",
              "    <tr>\n",
              "      <th>saledate</th>\n",
              "      <td>12</td>\n",
              "    </tr>\n",
              "  </tbody>\n",
              "</table>\n",
              "</div><br><label><b>dtype:</b> int64</label>"
            ]
          },
          "metadata": {},
          "execution_count": 96
        }
      ]
    },
    {
      "cell_type": "markdown",
      "source": [
        "**Count missing values in each row**\n"
      ],
      "metadata": {
        "id": "zKtbcBa-gJn5"
      }
    },
    {
      "cell_type": "code",
      "source": [
        "missing_count = data.isnull().sum(axis=1)\n",
        "\n"
      ],
      "metadata": {
        "id": "ztVfZOFpdnRn"
      },
      "execution_count": null,
      "outputs": []
    },
    {
      "cell_type": "markdown",
      "source": [
        "**Listwise deletion for rows that have at least 4 missing values.**"
      ],
      "metadata": {
        "id": "FP9nuIG5rRQy"
      }
    },
    {
      "cell_type": "code",
      "source": [
        "# Keep only rows with less than 4 missing values\n",
        "data_clean = data[missing_count < 4].copy()\n"
      ],
      "metadata": {
        "id": "PbyVh3e3gMIe"
      },
      "execution_count": null,
      "outputs": []
    },
    {
      "cell_type": "markdown",
      "source": [
        "**Imputation with mean and median numerical fields.**"
      ],
      "metadata": {
        "id": "25QwjekBr5QZ"
      }
    },
    {
      "cell_type": "code",
      "source": [
        "data[\"condition\"].mean()"
      ],
      "metadata": {
        "colab": {
          "base_uri": "https://localhost:8080/"
        },
        "id": "ac-u9_6Tm5Gg",
        "outputId": "656d1b2b-ef69-47e9-d6cb-d61356b90110"
      },
      "execution_count": null,
      "outputs": [
        {
          "output_type": "execute_result",
          "data": {
            "text/plain": [
              "29.72958318457694"
            ]
          },
          "metadata": {},
          "execution_count": 20
        }
      ]
    },
    {
      "cell_type": "code",
      "source": [
        "data['condition'].median()"
      ],
      "metadata": {
        "colab": {
          "base_uri": "https://localhost:8080/"
        },
        "id": "bzFiaJFTnJqh",
        "outputId": "d891ccb4-c711-4921-d4c4-a686ee70682e"
      },
      "execution_count": null,
      "outputs": [
        {
          "output_type": "execute_result",
          "data": {
            "text/plain": [
              "34.0"
            ]
          },
          "metadata": {},
          "execution_count": 21
        }
      ]
    },
    {
      "cell_type": "code",
      "source": [
        "sns.boxplot(data_clean[\"condition\"])"
      ],
      "metadata": {
        "colab": {
          "base_uri": "https://localhost:8080/",
          "height": 428
        },
        "id": "eBtqU9S8l7qA",
        "outputId": "73b3f184-d898-479a-bebb-ddbb00c589df"
      },
      "execution_count": null,
      "outputs": [
        {
          "output_type": "execute_result",
          "data": {
            "text/plain": [
              "<Axes: ylabel='condition'>"
            ]
          },
          "metadata": {},
          "execution_count": 22
        },
        {
          "output_type": "display_data",
          "data": {
            "text/plain": [
              "<Figure size 640x480 with 1 Axes>"
            ],
            "image/png": "[encoded data removed]"
          },
          "metadata": {}
        }
      ]
    },
    {
      "cell_type": "markdown",
      "source": [
        "Analysing the boxplot for the condition variable shows no outliers, indicating a normal distribution. Therefore, imputing missing values with the mean is appropriate, as it maintains the data's central tendency without introducing bias."
      ],
      "metadata": {
        "id": "Fi85-y0FmC2H"
      }
    },
    {
      "cell_type": "code",
      "source": [
        "# Mean imputation for condition\n",
        "data_clean[\"condition\"] = data_clean['condition'].fillna(data_clean['condition'].mean())\n"
      ],
      "metadata": {
        "id": "t6DpICY0mYv7"
      },
      "execution_count": null,
      "outputs": []
    },
    {
      "cell_type": "code",
      "source": [
        "data[\"odometer\"].mean()"
      ],
      "metadata": {
        "colab": {
          "base_uri": "https://localhost:8080/"
        },
        "id": "uSfm-49gnl1r",
        "outputId": "bf6d8e00-cb61-4f28-f5cf-cafe669e4785"
      },
      "execution_count": null,
      "outputs": [
        {
          "output_type": "execute_result",
          "data": {
            "text/plain": [
              "68320.01776666554"
            ]
          },
          "metadata": {},
          "execution_count": 31
        }
      ]
    },
    {
      "cell_type": "code",
      "source": [
        "data[\"odometer\"].median()"
      ],
      "metadata": {
        "colab": {
          "base_uri": "https://localhost:8080/"
        },
        "id": "TCo2GzQRnq5W",
        "outputId": "a9df2039-65ea-4800-ad68-202450db77da"
      },
      "execution_count": null,
      "outputs": [
        {
          "output_type": "execute_result",
          "data": {
            "text/plain": [
              "52254.0"
            ]
          },
          "metadata": {},
          "execution_count": 32
        }
      ]
    },
    {
      "cell_type": "code",
      "source": [
        "sns.boxplot(data_clean[\"odometer\"])"
      ],
      "metadata": {
        "colab": {
          "base_uri": "https://localhost:8080/",
          "height": 443
        },
        "id": "fCUn7VuTpf-I",
        "outputId": "9b90bdd6-c23d-41ac-99e5-8f3dcf1ded61"
      },
      "execution_count": null,
      "outputs": [
        {
          "output_type": "execute_result",
          "data": {
            "text/plain": [
              "<Axes: ylabel='odometer'>"
            ]
          },
          "metadata": {},
          "execution_count": 38
        },
        {
          "output_type": "display_data",
          "data": {
            "text/plain": [
              "<Figure size 640x480 with 1 Axes>"
            ],
            "image/png": "[encoded data removed]"
          },
          "metadata": {}
        }
      ]
    },
    {
      "cell_type": "markdown",
      "source": [
        "The boxplot for the odometer shows many outliers. To address this, we use winsorizing,which caps the outliers to the nearest percentile, such as the 5th and 95th percentiles, thereby reducing the impact of outliers while maintaining the integrity of the data distribution."
      ],
      "metadata": {
        "id": "8aVwLRb-NNJs"
      }
    },
    {
      "cell_type": "markdown",
      "source": [
        "**Applying winsorizing method to treat the outliers and imputing with mean.**"
      ],
      "metadata": {
        "id": "qgbyxlZCOygd"
      }
    },
    {
      "cell_type": "code",
      "source": [
        "from scipy.stats.mstats import winsorize\n",
        "data_clean[\"odometer\"] = winsorize(data_clean[\"odometer\"], limits=[0.05, 0.05])"
      ],
      "metadata": {
        "id": "sLVOGr08Bpq1"
      },
      "execution_count": null,
      "outputs": []
    },
    {
      "cell_type": "code",
      "source": [
        "sns.boxplot(data_clean[\"odometer\"])"
      ],
      "metadata": {
        "colab": {
          "base_uri": "https://localhost:8080/",
          "height": 444
        },
        "id": "Ms3uIU2kBuG_",
        "outputId": "e12fc5e0-6da7-4b81-c1c0-e5c90efda423"
      },
      "execution_count": null,
      "outputs": [
        {
          "output_type": "execute_result",
          "data": {
            "text/plain": [
              "<Axes: ylabel='odometer'>"
            ]
          },
          "metadata": {},
          "execution_count": 87
        },
        {
          "output_type": "display_data",
          "data": {
            "text/plain": [
              "<Figure size 640x480 with 1 Axes>"
            ],
            "image/png": "[encoded data removed]"
          },
          "metadata": {}
        }
      ]
    },
    {
      "cell_type": "code",
      "source": [
        "#mean imputation for odometer\n",
        "data_clean[\"odometer\"]=data_clean[\"odometer\"].fillna(data_clean[\"odometer\"].mean())"
      ],
      "metadata": {
        "id": "NDA0XWnPklJH"
      },
      "execution_count": null,
      "outputs": []
    },
    {
      "cell_type": "markdown",
      "source": [
        "# **Mode Imputation: Filling Null Values in Categorical Data Using the Most Frequent Value.**\n",
        "Mode imputation involves replacing missing values in categorical variables with the most frequent value (mode). This approach preserves the data's distribution and consistency, ensuring that the imputation maintains the integrity of the categorical variable."
      ],
      "metadata": {
        "id": "MaF6W_m1p_ka"
      }
    },
    {
      "cell_type": "code",
      "source": [
        "# Mode imputation for Make\n",
        "data_clean['make'].mode()\n",
        "data_clean['make'] = data_clean['make'].fillna(data_clean['make'].mode())"
      ],
      "metadata": {
        "id": "0gDjANHPq9Pw"
      },
      "execution_count": null,
      "outputs": []
    },
    {
      "cell_type": "code",
      "source": [
        "#mode imputation for model\n",
        "data_clean[\"model\"]=data_clean[\"model\"].fillna(data_clean[\"model\"].mode()[0])"
      ],
      "metadata": {
        "id": "6TFD9Ei1qfuU"
      },
      "execution_count": null,
      "outputs": []
    },
    {
      "cell_type": "code",
      "source": [
        "#mode imputation for body\n",
        "data_clean[\"body\"].mode()\n",
        "data_clean[\"body\"]=data_clean[\"body\"].fillna(data_clean[\"body\"].mode()[0])"
      ],
      "metadata": {
        "id": "mfz_HTqaoOdz"
      },
      "execution_count": null,
      "outputs": []
    },
    {
      "cell_type": "code",
      "source": [
        "#mode imputation for transmission\n",
        "data_clean[\"transmission\"].mode()\n",
        "data_clean[\"transmission\"]=data_clean[\"transmission\"].fillna(data_clean[\"transmission\"].mode()[0])"
      ],
      "metadata": {
        "id": "D2FBEE-8o6LG"
      },
      "execution_count": null,
      "outputs": []
    },
    {
      "cell_type": "code",
      "source": [
        "#mode imputation for color\n",
        "data_clean[\"color\"].mode()\n",
        "data_clean[\"color\"]=data_clean[\"color\"].fillna(data_clean[\"color\"].mode()[0])"
      ],
      "metadata": {
        "id": "zd63Y9McpR2q"
      },
      "execution_count": null,
      "outputs": []
    },
    {
      "cell_type": "code",
      "source": [
        "#mode imputation for interior\n",
        "data_clean[\"interior\"].mode()\n",
        "data_clean[\"interior\"]=data_clean[\"interior\"].fillna(data_clean[\"interior\"].mode()[0])"
      ],
      "metadata": {
        "id": "UZb4kL1npW9i"
      },
      "execution_count": null,
      "outputs": []
    },
    {
      "cell_type": "code",
      "source": [
        "data_clean.isnull().sum()"
      ],
      "metadata": {
        "colab": {
          "base_uri": "https://localhost:8080/",
          "height": 585
        },
        "id": "vFcIXPOEoEmK",
        "outputId": "10ff0d7a-79f9-4c4d-a994-2b23924d3e47"
      },
      "execution_count": null,
      "outputs": [
        {
          "output_type": "execute_result",
          "data": {
            "text/plain": [
              "year            0\n",
              "make            0\n",
              "model           0\n",
              "trim            0\n",
              "body            0\n",
              "transmission    0\n",
              "vin             0\n",
              "state           0\n",
              "condition       0\n",
              "odometer        0\n",
              "color           0\n",
              "interior        0\n",
              "seller          0\n",
              "mmr             0\n",
              "sellingprice    0\n",
              "saledate        0\n",
              "dtype: int64"
            ],
            "text/html": [
              "<div>\n",
              "<style scoped>\n",
              "    .dataframe tbody tr th:only-of-type {\n",
              "        vertical-align: middle;\n",
              "    }\n",
              "\n",
              "    .dataframe tbody tr th {\n",
              "        vertical-align: top;\n",
              "    }\n",
              "\n",
              "    .dataframe thead th {\n",
              "        text-align: right;\n",
              "    }\n",
              "</style>\n",
              "<table border=\"1\" class=\"dataframe\">\n",
              "  <thead>\n",
              "    <tr style=\"text-align: right;\">\n",
              "      <th></th>\n",
              "      <th>0</th>\n",
              "    </tr>\n",
              "  </thead>\n",
              "  <tbody>\n",
              "    <tr>\n",
              "      <th>year</th>\n",
              "      <td>0</td>\n",
              "    </tr>\n",
              "    <tr>\n",
              "      <th>make</th>\n",
              "      <td>0</td>\n",
              "    </tr>\n",
              "    <tr>\n",
              "      <th>model</th>\n",
              "      <td>0</td>\n",
              "    </tr>\n",
              "    <tr>\n",
              "      <th>trim</th>\n",
              "      <td>0</td>\n",
              "    </tr>\n",
              "    <tr>\n",
              "      <th>body</th>\n",
              "      <td>0</td>\n",
              "    </tr>\n",
              "    <tr>\n",
              "      <th>transmission</th>\n",
              "      <td>0</td>\n",
              "    </tr>\n",
              "    <tr>\n",
              "      <th>vin</th>\n",
              "      <td>0</td>\n",
              "    </tr>\n",
              "    <tr>\n",
              "      <th>state</th>\n",
              "      <td>0</td>\n",
              "    </tr>\n",
              "    <tr>\n",
              "      <th>condition</th>\n",
              "      <td>0</td>\n",
              "    </tr>\n",
              "    <tr>\n",
              "      <th>odometer</th>\n",
              "      <td>0</td>\n",
              "    </tr>\n",
              "    <tr>\n",
              "      <th>color</th>\n",
              "      <td>0</td>\n",
              "    </tr>\n",
              "    <tr>\n",
              "      <th>interior</th>\n",
              "      <td>0</td>\n",
              "    </tr>\n",
              "    <tr>\n",
              "      <th>seller</th>\n",
              "      <td>0</td>\n",
              "    </tr>\n",
              "    <tr>\n",
              "      <th>mmr</th>\n",
              "      <td>0</td>\n",
              "    </tr>\n",
              "    <tr>\n",
              "      <th>sellingprice</th>\n",
              "      <td>0</td>\n",
              "    </tr>\n",
              "    <tr>\n",
              "      <th>saledate</th>\n",
              "      <td>0</td>\n",
              "    </tr>\n",
              "  </tbody>\n",
              "</table>\n",
              "</div><br><label><b>dtype:</b> int64</label>"
            ]
          },
          "metadata": {},
          "execution_count": 97
        }
      ]
    },
    {
      "cell_type": "code",
      "source": [
        "data_clean.head()"
      ],
      "metadata": {
        "colab": {
          "base_uri": "https://localhost:8080/",
          "height": 660
        },
        "id": "5h4pRvNRur7V",
        "outputId": "4c480060-8602-4010-fcf0-1b1c4e88ebb0"
      },
      "execution_count": null,
      "outputs": [
        {
          "output_type": "execute_result",
          "data": {
            "text/plain": [
              "   year   make                model        trim   body transmission  \\\n",
              "0  2015    Kia              Sorento          LX    SUV    automatic   \n",
              "1  2015    Kia              Sorento          LX    SUV    automatic   \n",
              "2  2014    BMW             3 Series  328i SULEV  Sedan    automatic   \n",
              "3  2015  Volvo                  S60          T5  Sedan    automatic   \n",
              "4  2014    BMW  6 Series Gran Coupe        650i  Sedan    automatic   \n",
              "\n",
              "                 vin state  condition  odometer  color interior  \\\n",
              "0  5xyktca69fg566472    ca        5.0   16639.0  white    black   \n",
              "1  5xyktca69fg561319    ca        5.0    9393.0  white    beige   \n",
              "2  wba3c1c51ek116351    ca       45.0    1331.0   gray    black   \n",
              "3  yv1612tb4f1310987    ca       41.0   14282.0  white    black   \n",
              "4  wba6b2c57ed129731    ca       43.0    2641.0   gray    black   \n",
              "\n",
              "                                   seller      mmr  sellingprice  \\\n",
              "0                 kia motors america  inc  20500.0       21500.0   \n",
              "1                 kia motors america  inc  20800.0       21500.0   \n",
              "2  financial services remarketing (lease)  31900.0       30000.0   \n",
              "3                 volvo na rep/world omni  27500.0       27750.0   \n",
              "4  financial services remarketing (lease)  66000.0       67000.0   \n",
              "\n",
              "                                  saledate  \n",
              "0  Tue Dec 16 2014 12:30:00 GMT-0800 (PST)  \n",
              "1  Tue Dec 16 2014 12:30:00 GMT-0800 (PST)  \n",
              "2  Thu Jan 15 2015 04:30:00 GMT-0800 (PST)  \n",
              "3  Thu Jan 29 2015 04:30:00 GMT-0800 (PST)  \n",
              "4  Thu Dec 18 2014 12:30:00 GMT-0800 (PST)  "
            ],
            "text/html": [
              "\n",
              "  <div id=\"df-725c82d9-faeb-4fa0-b16c-78503f756d79\" class=\"colab-df-container\">\n",
              "    <div>\n",
              "<style scoped>\n",
              "    .dataframe tbody tr th:only-of-type {\n",
              "        vertical-align: middle;\n",
              "    }\n",
              "\n",
              "    .dataframe tbody tr th {\n",
              "        vertical-align: top;\n",
              "    }\n",
              "\n",
              "    .dataframe thead th {\n",
              "        text-align: right;\n",
              "    }\n",
              "</style>\n",
              "<table border=\"1\" class=\"dataframe\">\n",
              "  <thead>\n",
              "    <tr style=\"text-align: right;\">\n",
              "      <th></th>\n",
              "      <th>year</th>\n",
              "      <th>make</th>\n",
              "      <th>model</th>\n",
              "      <th>trim</th>\n",
              "      <th>body</th>\n",
              "      <th>transmission</th>\n",
              "      <th>vin</th>\n",
              "      <th>state</th>\n",
              "      <th>condition</th>\n",
              "      <th>odometer</th>\n",
              "      <th>color</th>\n",
              "      <th>interior</th>\n",
              "      <th>seller</th>\n",
              "      <th>mmr</th>\n",
              "      <th>sellingprice</th>\n",
              "      <th>saledate</th>\n",
              "    </tr>\n",
              "  </thead>\n",
              "  <tbody>\n",
              "    <tr>\n",
              "      <th>0</th>\n",
              "      <td>2015</td>\n",
              "      <td>Kia</td>\n",
              "      <td>Sorento</td>\n",
              "      <td>LX</td>\n",
              "      <td>SUV</td>\n",
              "      <td>automatic</td>\n",
              "      <td>5xyktca69fg566472</td>\n",
              "      <td>ca</td>\n",
              "      <td>5.0</td>\n",
              "      <td>16639.0</td>\n",
              "      <td>white</td>\n",
              "      <td>black</td>\n",
              "      <td>kia motors america  inc</td>\n",
              "      <td>20500.0</td>\n",
              "      <td>21500.0</td>\n",
              "      <td>Tue Dec 16 2014 12:30:00 GMT-0800 (PST)</td>\n",
              "    </tr>\n",
              "    <tr>\n",
              "      <th>1</th>\n",
              "      <td>2015</td>\n",
              "      <td>Kia</td>\n",
              "      <td>Sorento</td>\n",
              "      <td>LX</td>\n",
              "      <td>SUV</td>\n",
              "      <td>automatic</td>\n",
              "      <td>5xyktca69fg561319</td>\n",
              "      <td>ca</td>\n",
              "      <td>5.0</td>\n",
              "      <td>9393.0</td>\n",
              "      <td>white</td>\n",
              "      <td>beige</td>\n",
              "      <td>kia motors america  inc</td>\n",
              "      <td>20800.0</td>\n",
              "      <td>21500.0</td>\n",
              "      <td>Tue Dec 16 2014 12:30:00 GMT-0800 (PST)</td>\n",
              "    </tr>\n",
              "    <tr>\n",
              "      <th>2</th>\n",
              "      <td>2014</td>\n",
              "      <td>BMW</td>\n",
              "      <td>3 Series</td>\n",
              "      <td>328i SULEV</td>\n",
              "      <td>Sedan</td>\n",
              "      <td>automatic</td>\n",
              "      <td>wba3c1c51ek116351</td>\n",
              "      <td>ca</td>\n",
              "      <td>45.0</td>\n",
              "      <td>1331.0</td>\n",
              "      <td>gray</td>\n",
              "      <td>black</td>\n",
              "      <td>financial services remarketing (lease)</td>\n",
              "      <td>31900.0</td>\n",
              "      <td>30000.0</td>\n",
              "      <td>Thu Jan 15 2015 04:30:00 GMT-0800 (PST)</td>\n",
              "    </tr>\n",
              "    <tr>\n",
              "      <th>3</th>\n",
              "      <td>2015</td>\n",
              "      <td>Volvo</td>\n",
              "      <td>S60</td>\n",
              "      <td>T5</td>\n",
              "      <td>Sedan</td>\n",
              "      <td>automatic</td>\n",
              "      <td>yv1612tb4f1310987</td>\n",
              "      <td>ca</td>\n",
              "      <td>41.0</td>\n",
              "      <td>14282.0</td>\n",
              "      <td>white</td>\n",
              "      <td>black</td>\n",
              "      <td>volvo na rep/world omni</td>\n",
              "      <td>27500.0</td>\n",
              "      <td>27750.0</td>\n",
              "      <td>Thu Jan 29 2015 04:30:00 GMT-0800 (PST)</td>\n",
              "    </tr>\n",
              "    <tr>\n",
              "      <th>4</th>\n",
              "      <td>2014</td>\n",
              "      <td>BMW</td>\n",
              "      <td>6 Series Gran Coupe</td>\n",
              "      <td>650i</td>\n",
              "      <td>Sedan</td>\n",
              "      <td>automatic</td>\n",
              "      <td>wba6b2c57ed129731</td>\n",
              "      <td>ca</td>\n",
              "      <td>43.0</td>\n",
              "      <td>2641.0</td>\n",
              "      <td>gray</td>\n",
              "      <td>black</td>\n",
              "      <td>financial services remarketing (lease)</td>\n",
              "      <td>66000.0</td>\n",
              "      <td>67000.0</td>\n",
              "      <td>Thu Dec 18 2014 12:30:00 GMT-0800 (PST)</td>\n",
              "    </tr>\n",
              "  </tbody>\n",
              "</table>\n",
              "</div>\n",
              "    <div class=\"colab-df-buttons\">\n",
              "\n",
              "  <div class=\"colab-df-container\">\n",
              "    <button class=\"colab-df-convert\" onclick=\"convertToInteractive('df-725c82d9-faeb-4fa0-b16c-78503f756d79')\"\n",
              "            title=\"Convert this dataframe to an interactive table.\"\n",
              "            style=\"display:none;\">\n",
              "\n",
              "  <svg xmlns=\"http://www.w3.org/2000/svg\" height=\"24px\" viewBox=\"0 -960 960 960\">\n",
              "    <path d=\"M120-120v-720h720v720H120Zm60-500h600v-160H180v160Zm220 220h160v-160H400v160Zm0 220h160v-160H400v160ZM180-400h160v-160H180v160Zm440 0h160v-160H620v160ZM180-180h160v-160H180v160Zm440 0h160v-160H620v160Z\"/>\n",
              "  </svg>\n",
              "    </button>\n",
              "\n",
              "  <style>\n",
              "    .colab-df-container {\n",
              "      display:flex;\n",
              "      gap: 12px;\n",
              "    }\n",
              "\n",
              "    .colab-df-convert {\n",
              "      background-color: #E8F0FE;\n",
              "      border: none;\n",
              "      border-radius: 50%;\n",
              "      cursor: pointer;\n",
              "      display: none;\n",
              "      fill: #1967D2;\n",
              "      height: 32px;\n",
              "      padding: 0 0 0 0;\n",
              "      width: 32px;\n",
              "    }\n",
              "\n",
              "    .colab-df-convert:hover {\n",
              "      background-color: #E2EBFA;\n",
              "      box-shadow: 0px 1px 2px rgba(60, 64, 67, 0.3), 0px 1px 3px 1px rgba(60, 64, 67, 0.15);\n",
              "      fill: #174EA6;\n",
              "    }\n",
              "\n",
              "    .colab-df-buttons div {\n",
              "      margin-bottom: 4px;\n",
              "    }\n",
              "\n",
              "    [theme=dark] .colab-df-convert {\n",
              "      background-color: #3B4455;\n",
              "      fill: #D2E3FC;\n",
              "    }\n",
              "\n",
              "    [theme=dark] .colab-df-convert:hover {\n",
              "      background-color: #434B5C;\n",
              "      box-shadow: 0px 1px 3px 1px rgba(0, 0, 0, 0.15);\n",
              "      filter: drop-shadow(0px 1px 2px rgba(0, 0, 0, 0.3));\n",
              "      fill: #FFFFFF;\n",
              "    }\n",
              "  </style>\n",
              "\n",
              "    <script>\n",
              "      const buttonEl =\n",
              "        document.querySelector('#df-725c82d9-faeb-4fa0-b16c-78503f756d79 button.colab-df-convert');\n",
              "      buttonEl.style.display =\n",
              "        google.colab.kernel.accessAllowed ? 'block' : 'none';\n",
              "\n",
              "      async function convertToInteractive(key) {\n",
              "        const element = document.querySelector('#df-725c82d9-faeb-4fa0-b16c-78503f756d79');\n",
              "        const dataTable =\n",
              "          await google.colab.kernel.invokeFunction('convertToInteractive',\n",
              "                                                    [key], {});\n",
              "        if (!dataTable) return;\n",
              "\n",
              "        const docLinkHtml = 'Like what you see? Visit the ' +\n",
              "          '<a target=\"_blank\" href=https://colab.research.google.com/notebooks/data_table.ipynb>data table notebook</a>'\n",
              "          + ' to learn more about interactive tables.';\n",
              "        element.innerHTML = '';\n",
              "        dataTable['output_type'] = 'display_data';\n",
              "        await google.colab.output.renderOutput(dataTable, element);\n",
              "        const docLink = document.createElement('div');\n",
              "        docLink.innerHTML = docLinkHtml;\n",
              "        element.appendChild(docLink);\n",
              "      }\n",
              "    </script>\n",
              "  </div>\n",
              "\n",
              "\n",
              "<div id=\"df-56531656-23f0-4894-8750-e6cc7139b758\">\n",
              "  <button class=\"colab-df-quickchart\" onclick=\"quickchart('df-56531656-23f0-4894-8750-e6cc7139b758')\"\n",
              "            title=\"Suggest charts\"\n",
              "            style=\"display:none;\">\n",
              "\n",
              "<svg xmlns=\"http://www.w3.org/2000/svg\" height=\"24px\"viewBox=\"0 0 24 24\"\n",
              "     width=\"24px\">\n",
              "    <g>\n",
              "        <path d=\"M19 3H5c-1.1 0-2 .9-2 2v14c0 1.1.9 2 2 2h14c1.1 0 2-.9 2-2V5c0-1.1-.9-2-2-2zM9 17H7v-7h2v7zm4 0h-2V7h2v10zm4 0h-2v-4h2v4z\"/>\n",
              "    </g>\n",
              "</svg>\n",
              "  </button>\n",
              "\n",
              "<style>\n",
              "  .colab-df-quickchart {\n",
              "      --bg-color: #E8F0FE;\n",
              "      --fill-color: #1967D2;\n",
              "      --hover-bg-color: #E2EBFA;\n",
              "      --hover-fill-color: #174EA6;\n",
              "      --disabled-fill-color: #AAA;\n",
              "      --disabled-bg-color: #DDD;\n",
              "  }\n",
              "\n",
              "  [theme=dark] .colab-df-quickchart {\n",
              "      --bg-color: #3B4455;\n",
              "      --fill-color: #D2E3FC;\n",
              "      --hover-bg-color: #434B5C;\n",
              "      --hover-fill-color: #FFFFFF;\n",
              "      --disabled-bg-color: #3B4455;\n",
              "      --disabled-fill-color: #666;\n",
              "  }\n",
              "\n",
              "  .colab-df-quickchart {\n",
              "    background-color: var(--bg-color);\n",
              "    border: none;\n",
              "    border-radius: 50%;\n",
              "    cursor: pointer;\n",
              "    display: none;\n",
              "    fill: var(--fill-color);\n",
              "    height: 32px;\n",
              "    padding: 0;\n",
              "    width: 32px;\n",
              "  }\n",
              "\n",
              "  .colab-df-quickchart:hover {\n",
              "    background-color: var(--hover-bg-color);\n",
              "    box-shadow: 0 1px 2px rgba(60, 64, 67, 0.3), 0 1px 3px 1px rgba(60, 64, 67, 0.15);\n",
              "    fill: var(--button-hover-fill-color);\n",
              "  }\n",
              "\n",
              "  .colab-df-quickchart-complete:disabled,\n",
              "  .colab-df-quickchart-complete:disabled:hover {\n",
              "    background-color: var(--disabled-bg-color);\n",
              "    fill: var(--disabled-fill-color);\n",
              "    box-shadow: none;\n",
              "  }\n",
              "\n",
              "  .colab-df-spinner {\n",
              "    border: 2px solid var(--fill-color);\n",
              "    border-color: transparent;\n",
              "    border-bottom-color: var(--fill-color);\n",
              "    animation:\n",
              "      spin 1s steps(1) infinite;\n",
              "  }\n",
              "\n",
              "  @keyframes spin {\n",
              "    0% {\n",
              "      border-color: transparent;\n",
              "      border-bottom-color: var(--fill-color);\n",
              "      border-left-color: var(--fill-color);\n",
              "    }\n",
              "    20% {\n",
              "      border-color: transparent;\n",
              "      border-left-color: var(--fill-color);\n",
              "      border-top-color: var(--fill-color);\n",
              "    }\n",
              "    30% {\n",
              "      border-color: transparent;\n",
              "      border-left-color: var(--fill-color);\n",
              "      border-top-color: var(--fill-color);\n",
              "      border-right-color: var(--fill-color);\n",
              "    }\n",
              "    40% {\n",
              "      border-color: transparent;\n",
              "      border-right-color: var(--fill-color);\n",
              "      border-top-color: var(--fill-color);\n",
              "    }\n",
              "    60% {\n",
              "      border-color: transparent;\n",
              "      border-right-color: var(--fill-color);\n",
              "    }\n",
              "    80% {\n",
              "      border-color: transparent;\n",
              "      border-right-color: var(--fill-color);\n",
              "      border-bottom-color: var(--fill-color);\n",
              "    }\n",
              "    90% {\n",
              "      border-color: transparent;\n",
              "      border-bottom-color: var(--fill-color);\n",
              "    }\n",
              "  }\n",
              "</style>\n",
              "\n",
              "  <script>\n",
              "    async function quickchart(key) {\n",
              "      const quickchartButtonEl =\n",
              "        document.querySelector('#' + key + ' button');\n",
              "      quickchartButtonEl.disabled = true;  // To prevent multiple clicks.\n",
              "      quickchartButtonEl.classList.add('colab-df-spinner');\n",
              "      try {\n",
              "        const charts = await google.colab.kernel.invokeFunction(\n",
              "            'suggestCharts', [key], {});\n",
              "      } catch (error) {\n",
              "        console.error('Error during call to suggestCharts:', error);\n",
              "      }\n",
              "      quickchartButtonEl.classList.remove('colab-df-spinner');\n",
              "      quickchartButtonEl.classList.add('colab-df-quickchart-complete');\n",
              "    }\n",
              "    (() => {\n",
              "      let quickchartButtonEl =\n",
              "        document.querySelector('#df-56531656-23f0-4894-8750-e6cc7139b758 button');\n",
              "      quickchartButtonEl.style.display =\n",
              "        google.colab.kernel.accessAllowed ? 'block' : 'none';\n",
              "    })();\n",
              "  </script>\n",
              "</div>\n",
              "\n",
              "    </div>\n",
              "  </div>\n"
            ],
            "application/vnd.google.colaboratory.intrinsic+json": {
              "type": "dataframe",
              "variable_name": "data_clean"
            }
          },
          "metadata": {},
          "execution_count": 62
        }
      ]
    },
    {
      "cell_type": "markdown",
      "source": [
        "# **visualizing the cleaned data**"
      ],
      "metadata": {
        "id": "xqf66XiQtDAP"
      }
    },
    {
      "cell_type": "code",
      "source": [
        "filtsedan=data_clean[data_clean['body']==\"SUV\"]\n",
        "sedan_group=filtsedan[\"make\"].value_counts().head(10)\n",
        "sedan_group"
      ],
      "metadata": {
        "colab": {
          "base_uri": "https://localhost:8080/",
          "height": 429
        },
        "id": "fkBlBoCxtWGX",
        "outputId": "d90f5560-3027-43ff-df46-75e543859a1b"
      },
      "execution_count": null,
      "outputs": [
        {
          "output_type": "execute_result",
          "data": {
            "text/plain": [
              "make\n",
              "Ford         7428\n",
              "Jeep         4008\n",
              "Chevrolet    3907\n",
              "Nissan       3120\n",
              "Toyota       2126\n",
              "GMC          1867\n",
              "Dodge        1656\n",
              "Honda        1609\n",
              "Kia          1241\n",
              "BMW          1139\n",
              "Name: count, dtype: int64"
            ],
            "text/html": [
              "<div>\n",
              "<style scoped>\n",
              "    .dataframe tbody tr th:only-of-type {\n",
              "        vertical-align: middle;\n",
              "    }\n",
              "\n",
              "    .dataframe tbody tr th {\n",
              "        vertical-align: top;\n",
              "    }\n",
              "\n",
              "    .dataframe thead th {\n",
              "        text-align: right;\n",
              "    }\n",
              "</style>\n",
              "<table border=\"1\" class=\"dataframe\">\n",
              "  <thead>\n",
              "    <tr style=\"text-align: right;\">\n",
              "      <th></th>\n",
              "      <th>count</th>\n",
              "    </tr>\n",
              "    <tr>\n",
              "      <th>make</th>\n",
              "      <th></th>\n",
              "    </tr>\n",
              "  </thead>\n",
              "  <tbody>\n",
              "    <tr>\n",
              "      <th>Ford</th>\n",
              "      <td>7428</td>\n",
              "    </tr>\n",
              "    <tr>\n",
              "      <th>Jeep</th>\n",
              "      <td>4008</td>\n",
              "    </tr>\n",
              "    <tr>\n",
              "      <th>Chevrolet</th>\n",
              "      <td>3907</td>\n",
              "    </tr>\n",
              "    <tr>\n",
              "      <th>Nissan</th>\n",
              "      <td>3120</td>\n",
              "    </tr>\n",
              "    <tr>\n",
              "      <th>Toyota</th>\n",
              "      <td>2126</td>\n",
              "    </tr>\n",
              "    <tr>\n",
              "      <th>GMC</th>\n",
              "      <td>1867</td>\n",
              "    </tr>\n",
              "    <tr>\n",
              "      <th>Dodge</th>\n",
              "      <td>1656</td>\n",
              "    </tr>\n",
              "    <tr>\n",
              "      <th>Honda</th>\n",
              "      <td>1609</td>\n",
              "    </tr>\n",
              "    <tr>\n",
              "      <th>Kia</th>\n",
              "      <td>1241</td>\n",
              "    </tr>\n",
              "    <tr>\n",
              "      <th>BMW</th>\n",
              "      <td>1139</td>\n",
              "    </tr>\n",
              "  </tbody>\n",
              "</table>\n",
              "</div><br><label><b>dtype:</b> int64</label>"
            ]
          },
          "metadata": {},
          "execution_count": 63
        }
      ]
    },
    {
      "cell_type": "code",
      "source": [
        "plt.bar(sedan_group.index,sedan_group.values,color=\"brown\")\n",
        "plt.title(\"TOP 10 SUV Selling Brands\")\n",
        "plt.xlabel(\"brands\")\n",
        "plt.ylabel(\"Sales\")\n",
        "plt.xticks(rotation=90)"
      ],
      "metadata": {
        "colab": {
          "base_uri": "https://localhost:8080/",
          "height": 716
        },
        "id": "I0P29zgKtBr7",
        "outputId": "378c6634-1fb3-47e3-dc5a-dda700e46448"
      },
      "execution_count": null,
      "outputs": [
        {
          "output_type": "execute_result",
          "data": {
            "text/plain": [
              "([0, 1, 2, 3, 4, 5, 6, 7, 8, 9],\n",
              " [Text(0, 0, 'Ford'),\n",
              "  Text(1, 0, 'Jeep'),\n",
              "  Text(2, 0, 'Chevrolet'),\n",
              "  Text(3, 0, 'Nissan'),\n",
              "  Text(4, 0, 'Toyota'),\n",
              "  Text(5, 0, 'GMC'),\n",
              "  Text(6, 0, 'Dodge'),\n",
              "  Text(7, 0, 'Honda'),\n",
              "  Text(8, 0, 'Kia'),\n",
              "  Text(9, 0, 'BMW')])"
            ]
          },
          "metadata": {},
          "execution_count": 64
        },
        {
          "output_type": "display_data",
          "data": {
            "text/plain": [
              "<Figure size 640x480 with 1 Axes>"
            ],
            "image/png": "[encoded data removed]"
          },
          "metadata": {}
        }
      ]
    },
    {
      "cell_type": "markdown",
      "source": [
        "Insight:Among top 10 SUV  selling brands, Ford is the most selling brand followed by jeep."
      ],
      "metadata": {
        "id": "vmZTF8UpZKew"
      }
    },
    {
      "cell_type": "code",
      "source": [
        "condition_vehicles=data_clean.sort_values(by=\"condition\",ascending=False).head(10)\n",
        "condition_vehicles_name=condition_vehicles[\"make\"].head(10)\n",
        "Top_condition_vehicles=condition_vehicles[\"condition\"]\n",
        "plt.bar(condition_vehicles_name,Top_condition_vehicles,color=\"green\")\n",
        "plt.xticks(rotation=90)\n",
        "plt.xlabel(\"Car Brand\")\n",
        "plt.ylabel(\"Condition Rating\")\n",
        "plt.title(\"TOP 5 BRANDS WITH BEST CONDITION\")"
      ],
      "metadata": {
        "colab": {
          "base_uri": "https://localhost:8080/",
          "height": 520
        },
        "id": "z7uGCtn6wB8V",
        "outputId": "0027ff1f-47a8-45d2-f07f-4de37912bec4"
      },
      "execution_count": null,
      "outputs": [
        {
          "output_type": "execute_result",
          "data": {
            "text/plain": [
              "Text(0.5, 1.0, 'TOP 5 BRANDS WITH BEST CONDITION')"
            ]
          },
          "metadata": {},
          "execution_count": 66
        },
        {
          "output_type": "display_data",
          "data": {
            "text/plain": [
              "<Figure size 640x480 with 1 Axes>"
            ],
            "image/png": "[encoded data removed]"
          },
          "metadata": {}
        }
      ]
    },
    {
      "cell_type": "markdown",
      "source": [
        "insight:Top 5 brands with best condition"
      ],
      "metadata": {
        "id": "Mfd4P6oaZfxQ"
      }
    },
    {
      "cell_type": "code",
      "source": [
        "gear_group=data_clean[\"transmission\"].value_counts().head(10)\n",
        "gear_group"
      ],
      "metadata": {
        "colab": {
          "base_uri": "https://localhost:8080/",
          "height": 178
        },
        "id": "zNkq_qgfwmdD",
        "outputId": "76ead3dc-10b2-4e80-dbe9-22dba9aa4eac"
      },
      "execution_count": null,
      "outputs": [
        {
          "output_type": "execute_result",
          "data": {
            "text/plain": [
              "transmission\n",
              "automatic    140249\n",
              "manual         4836\n",
              "Name: count, dtype: int64"
            ],
            "text/html": [
              "<div>\n",
              "<style scoped>\n",
              "    .dataframe tbody tr th:only-of-type {\n",
              "        vertical-align: middle;\n",
              "    }\n",
              "\n",
              "    .dataframe tbody tr th {\n",
              "        vertical-align: top;\n",
              "    }\n",
              "\n",
              "    .dataframe thead th {\n",
              "        text-align: right;\n",
              "    }\n",
              "</style>\n",
              "<table border=\"1\" class=\"dataframe\">\n",
              "  <thead>\n",
              "    <tr style=\"text-align: right;\">\n",
              "      <th></th>\n",
              "      <th>count</th>\n",
              "    </tr>\n",
              "    <tr>\n",
              "      <th>transmission</th>\n",
              "      <th></th>\n",
              "    </tr>\n",
              "  </thead>\n",
              "  <tbody>\n",
              "    <tr>\n",
              "      <th>automatic</th>\n",
              "      <td>140249</td>\n",
              "    </tr>\n",
              "    <tr>\n",
              "      <th>manual</th>\n",
              "      <td>4836</td>\n",
              "    </tr>\n",
              "  </tbody>\n",
              "</table>\n",
              "</div><br><label><b>dtype:</b> int64</label>"
            ]
          },
          "metadata": {},
          "execution_count": 68
        }
      ]
    },
    {
      "cell_type": "code",
      "source": [
        "wedgeprops={\"edgecolor\":\"black\",\"linewidth\":5}\n",
        "plt.pie(gear_group,labels=gear_group.index,wedgeprops=wedgeprops,autopct=\"%1.1f%%\")\n",
        "plt.title(\"Transmission distribution\")"
      ],
      "metadata": {
        "colab": {
          "base_uri": "https://localhost:8080/",
          "height": 445
        },
        "id": "tkR72G-5wsKv",
        "outputId": "3be25670-5d05-4ec3-a342-1cce6ba432a2"
      },
      "execution_count": null,
      "outputs": [
        {
          "output_type": "execute_result",
          "data": {
            "text/plain": [
              "Text(0.5, 1.0, 'Transmission distribution')"
            ]
          },
          "metadata": {},
          "execution_count": 70
        },
        {
          "output_type": "display_data",
          "data": {
            "text/plain": [
              "<Figure size 640x480 with 1 Axes>"
            ],
            "image/png": "[encoded data removed]"
          },
          "metadata": {}
        }
      ]
    },
    {
      "cell_type": "markdown",
      "source": [
        "Insight:96.7% of the cars are automatic."
      ],
      "metadata": {
        "id": "pNsi4S2kiFxB"
      }
    },
    {
      "cell_type": "code",
      "source": [
        "high_mmr=data_clean.groupby(\"make\")[\"mmr\"].sum().sort_values(ascending=False).head(10)"
      ],
      "metadata": {
        "id": "0qNz0ZOnxQOZ"
      },
      "execution_count": null,
      "outputs": []
    },
    {
      "cell_type": "code",
      "source": [
        "plt.style.use(\"dark_background\")\n",
        "high_mmr.plot(kind=\"bar\",x=high_mmr.index,y=high_mmr.values,color=\"red\")\n",
        "plt.title(\"Marketing value of different brands\")\n",
        "plt.xlabel(\"cars\")\n",
        "plt.ylabel(\"marketing price\")"
      ],
      "metadata": {
        "colab": {
          "base_uri": "https://localhost:8080/",
          "height": 576
        },
        "id": "SSKQBx2NxUxt",
        "outputId": "c465ff7e-5457-4079-cbc5-079f1b5219a0"
      },
      "execution_count": null,
      "outputs": [
        {
          "output_type": "execute_result",
          "data": {
            "text/plain": [
              "Text(0, 0.5, 'marketing price')"
            ]
          },
          "metadata": {},
          "execution_count": 74
        },
        {
          "output_type": "display_data",
          "data": {
            "text/plain": [
              "<Figure size 640x480 with 1 Axes>"
            ],
            "image/png": "[encoded data removed]"
          },
          "metadata": {}
        }
      ]
    },
    {
      "cell_type": "markdown",
      "source": [
        "Insight:Analysing the different brands with marketing value, ford is the one with highest marketing value is ford followed by chevrolet."
      ],
      "metadata": {
        "id": "nbUY4xeTphEL"
      }
    },
    {
      "cell_type": "code",
      "source": [
        "kia_cars=data_clean[data_clean[\"make\"]==\"kia\"]\n",
        "gpc=kia_cars.groupby([ 'model'])['sellingprice'].mean()\n",
        "gpc"
      ],
      "metadata": {
        "colab": {
          "base_uri": "https://localhost:8080/",
          "height": 241
        },
        "id": "uQHap7J6yk98",
        "outputId": "f96500ee-06b3-4fdf-e445-e3f07370c988"
      },
      "execution_count": null,
      "outputs": [
        {
          "output_type": "execute_result",
          "data": {
            "text/plain": [
              "model\n",
              "borrego     9000.000000\n",
              "optima      2600.000000\n",
              "rio         4666.666667\n",
              "sportage    2900.000000\n",
              "Name: sellingprice, dtype: float64"
            ],
            "text/html": [
              "<div>\n",
              "<style scoped>\n",
              "    .dataframe tbody tr th:only-of-type {\n",
              "        vertical-align: middle;\n",
              "    }\n",
              "\n",
              "    .dataframe tbody tr th {\n",
              "        vertical-align: top;\n",
              "    }\n",
              "\n",
              "    .dataframe thead th {\n",
              "        text-align: right;\n",
              "    }\n",
              "</style>\n",
              "<table border=\"1\" class=\"dataframe\">\n",
              "  <thead>\n",
              "    <tr style=\"text-align: right;\">\n",
              "      <th></th>\n",
              "      <th>sellingprice</th>\n",
              "    </tr>\n",
              "    <tr>\n",
              "      <th>model</th>\n",
              "      <th></th>\n",
              "    </tr>\n",
              "  </thead>\n",
              "  <tbody>\n",
              "    <tr>\n",
              "      <th>borrego</th>\n",
              "      <td>9000.000000</td>\n",
              "    </tr>\n",
              "    <tr>\n",
              "      <th>optima</th>\n",
              "      <td>2600.000000</td>\n",
              "    </tr>\n",
              "    <tr>\n",
              "      <th>rio</th>\n",
              "      <td>4666.666667</td>\n",
              "    </tr>\n",
              "    <tr>\n",
              "      <th>sportage</th>\n",
              "      <td>2900.000000</td>\n",
              "    </tr>\n",
              "  </tbody>\n",
              "</table>\n",
              "</div><br><label><b>dtype:</b> float64</label>"
            ]
          },
          "metadata": {},
          "execution_count": 76
        }
      ]
    },
    {
      "cell_type": "code",
      "source": [
        "plt.bar(gpc.index,gpc.values)\n",
        "plt.title(\"kIA VARIANTS WISE SALE\")\n",
        "plt.xlabel(\"Models\")\n",
        "plt.ylabel(\"sellingprice\")"
      ],
      "metadata": {
        "colab": {
          "base_uri": "https://localhost:8080/",
          "height": 487
        },
        "id": "y7F3PqLmzKGF",
        "outputId": "9cd52dbf-3471-44ba-822c-d3448e57e68b"
      },
      "execution_count": null,
      "outputs": [
        {
          "output_type": "execute_result",
          "data": {
            "text/plain": [
              "Text(0, 0.5, 'sellingprice')"
            ]
          },
          "metadata": {},
          "execution_count": 77
        },
        {
          "output_type": "display_data",
          "data": {
            "text/plain": [
              "<Figure size 640x480 with 1 Axes>"
            ],
            "image/png": "[encoded data removed]"
          },
          "metadata": {}
        }
      ]
    },
    {
      "cell_type": "markdown",
      "source": [
        "INSIGHT-Among the variants of KIA,borrego has the maximum selling price\n",
        "\n"
      ],
      "metadata": {
        "id": "BEld0x9hqemp"
      }
    },
    {
      "cell_type": "code",
      "source": [
        "high_selling_price=data_clean.sort_values(by=\"sellingprice\",ascending=False).head(10)"
      ],
      "metadata": {
        "id": "s-JWVmLv0ZrX"
      },
      "execution_count": null,
      "outputs": []
    },
    {
      "cell_type": "code",
      "source": [
        "plt.style.use(\"ggplot\")\n",
        "plt.bar(high_selling_price[\"make\"],high_selling_price[\"sellingprice\"],color=\"purple\")\n",
        "plt.title(\"Cars with high selling price\")\n",
        "plt.xlabel(\"cars\")\n",
        "plt.ylabel(\"selling price\")"
      ],
      "metadata": {
        "colab": {
          "base_uri": "https://localhost:8080/",
          "height": 489
        },
        "id": "w9vjv1tN0lKd",
        "outputId": "ac6f1c9f-61a7-471f-e9f7-997701fde3af"
      },
      "execution_count": null,
      "outputs": [
        {
          "output_type": "execute_result",
          "data": {
            "text/plain": [
              "Text(0, 0.5, 'selling price')"
            ]
          },
          "metadata": {},
          "execution_count": 83
        },
        {
          "output_type": "display_data",
          "data": {
            "text/plain": [
              "<Figure size 640x480 with 1 Axes>"
            ],
            "image/png": "[encoded data removed]"
          },
          "metadata": {}
        }
      ]
    },
    {
      "cell_type": "markdown",
      "source": [
        "INSIGHT-Rolls-Royce having the highest selling price followed by Ferrari."
      ],
      "metadata": {
        "id": "xY0FlxWVJ2EO"
      }
    },
    {
      "cell_type": "code",
      "source": [
        "low_mmr=data_clean.groupby(\"make\")[\"mmr\"].sum().sort_values(ascending=False).tail(10)\n",
        "plt.style.use(\"dark_background\")\n",
        "low_mmr.plot(kind=\"line\",x=low_mmr.index,y=low_mmr.values,color=\"brown\",lw=5)\n",
        "plt.xticks(rotation=90)\n",
        "plt.title(\"brands having lowest marketing price\")\n",
        "plt.ylabel(\"marketing price\")\n",
        "plt.xlabel(\"brands\")"
      ],
      "metadata": {
        "colab": {
          "base_uri": "https://localhost:8080/",
          "height": 538
        },
        "id": "hCrbqRRQ2aOq",
        "outputId": "a560c845-2a49-457e-fac9-06a54dbde587"
      },
      "execution_count": null,
      "outputs": [
        {
          "output_type": "execute_result",
          "data": {
            "text/plain": [
              "Text(0.5, 0, 'brands')"
            ]
          },
          "metadata": {},
          "execution_count": 85
        },
        {
          "output_type": "display_data",
          "data": {
            "text/plain": [
              "<Figure size 640x480 with 1 Axes>"
            ],
            "image/png": "[encoded data removed]"
          },
          "metadata": {}
        }
      ]
    },
    {
      "cell_type": "markdown",
      "source": [
        "INSIGHT:dodge tk is the one with lowest marketing price succeeded by dot."
      ],
      "metadata": {
        "id": "msQOxvOJJZKE"
      }
    },
    {
      "cell_type": "code",
      "source": [],
      "metadata": {
        "id": "MmRoFzhnEJX3"
      },
      "execution_count": null,
      "outputs": []
    }
  ]
}